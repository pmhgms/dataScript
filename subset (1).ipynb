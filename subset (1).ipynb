{
 "cells": [
  {
   "cell_type": "code",
   "execution_count": null,
   "metadata": {
    "collapsed": false
   },
   "outputs": [],
   "source": [
    "oriSet, listn=input('list,len:\\n')\n",
    "completePartOfSubSet, total, startLimit, completePartLength=[],[],0,0\n",
    "\n",
    "def digui(completePartOfSubSet, startLimit, completePartLength, subSetLength):\n",
    "    if completePartLength +1 < subSetLength:\n",
    "        completePartLength += 1\n",
    "        for startPosition in range(startLimit, len(oriSet)-subSetLength+completePartLength):\n",
    "            digui(completePartOfSubSet + [oriSet[startPosition]], startPosition+1, completePartLength, subSetLength)\n",
    "    else :\n",
    "        for lastOne in range(startLimit, len(oriSet)):\n",
    "            total.append(completePartOfSubSet + [oriSet[lastOne]])\n",
    "\n",
    "def gene():            \n",
    "    for subSetLength in listn:\n",
    "        digui(completePartOfSubSet, startLimit, completePartLength, subSetLength)\n",
    "        \n",
    "gene()"
   ]
  },
  {
   "cell_type": "markdown",
   "metadata": {},
   "source": [
    "###digui函数解释\n",
    "- 在for循环里面做递归\n",
    "- 直到一个子集距离完成只差一个元素时，结束递归\n",
    "    - 最后一个元素在完成部分未涉及的范围内，用for循环各取一个，各组成一个不同的完整的子集\n",
    "    - 由此往上推，倒数第二个元素其实是，在完成部分未涉及的和除倒数第二个元素不可选择的范围内，用for循环各取一个，各组成一个不同的不完整子集\n"
   ]
  },
  {
   "cell_type": "markdown",
   "metadata": {},
   "source": [
    "###变量名解释\n",
    "- oriSet 输入的集合 [list]\n",
    "- listn 需要哪几种长度的子集 [list]\n",
    "- completePartOfSubSet 子集完成的部分\n",
    "- startLimit 完成部分未涉及的范围的开头\n",
    "- completePartLength 完成部分的长度\n",
    "- subSetLength 某一个需要的子集长度\n",
    "- startPosition 某个元素在循环中选取的位置"
   ]
  },
  {
   "cell_type": "markdown",
   "metadata": {},
   "source": [
    "###运行结果演示（用[3,4,5,6,7],[3,4]作为输入）："
   ]
  },
  {
   "cell_type": "code",
   "execution_count": 3,
   "metadata": {
    "collapsed": false,
    "slideshow": {
     "slide_type": "skip"
    }
   },
   "outputs": [
    {
     "data": {
      "text/plain": [
       "[[3, 4, 5],\n",
       " [3, 4, 6],\n",
       " [3, 4, 7],\n",
       " [3, 5, 6],\n",
       " [3, 5, 7],\n",
       " [3, 6, 7],\n",
       " [4, 5, 6],\n",
       " [4, 5, 7],\n",
       " [4, 6, 7],\n",
       " [5, 6, 7],\n",
       " [3, 4, 5, 6],\n",
       " [3, 4, 5, 7],\n",
       " [3, 4, 6, 7],\n",
       " [3, 5, 6, 7],\n",
       " [4, 5, 6, 7]]"
      ]
     },
     "execution_count": 3,
     "metadata": {},
     "output_type": "execute_result"
    }
   ],
   "source": [
    "total"
   ]
  },
  {
   "cell_type": "code",
   "execution_count": null,
   "metadata": {
    "collapsed": true
   },
   "outputs": [],
   "source": []
  }
 ],
 "metadata": {
  "kernelspec": {
   "display_name": "Python 2",
   "language": "python",
   "name": "python2"
  },
  "language_info": {
   "codemirror_mode": {
    "name": "ipython",
    "version": 2
   },
   "file_extension": ".py",
   "mimetype": "text/x-python",
   "name": "python",
   "nbconvert_exporter": "python",
   "pygments_lexer": "ipython2",
   "version": "2.7.9"
  }
 },
 "nbformat": 4,
 "nbformat_minor": 0
}
